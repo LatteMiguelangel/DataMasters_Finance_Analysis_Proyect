{
 "cells": [
  {
   "cell_type": "markdown",
   "metadata": {},
   "source": [
    "# Lista de Graficas que se pueden hacer\n",
    "\n",
    "## Listado de Gráficos Relevantes\n",
    "\n",
    "### Gráfico de Precios de Cierre:\n",
    "- *Descripción:* Compara la evolución del precio de cierre de las acciones de Samsung y Apple a lo largo del tiempo.\n",
    "Columnas: date, close.\n",
    "\n",
    "### Gráfico de Precios de Apertura:\n",
    "Descripción: Muestra cómo han variado los precios de apertura de ambas acciones.\n",
    "Columnas: date, open.\n",
    "\n",
    "### Gráfico de Máximos y Mínimos:\n",
    "Descripción: Un gráfico de líneas que muestre los precios máximos y mínimos diarios para cada acción.\n",
    "Columnas: date, high, low.\n",
    "\n",
    "### Gráfico de Volumen de Negociación:\n",
    "Descripción: Visualiza el volumen de acciones negociadas por día, lo que puede indicar el interés del mercado.\n",
    "Columnas: date, volume.\n",
    "\n",
    "### Gráfico de Retornos Diarios:\n",
    "Descripción: Calcula y compara los retornos diarios (variación porcentual del precio) de ambas acciones.\n",
    "Columnas: date, close.\n",
    "\n",
    "### Gráfico de Comparación de Rendimiento Acumulado:\n",
    "Descripción: Muestra el rendimiento acumulado de ambas acciones en un período específico, lo que ayuda a ver cuál ha tenido un mejor desempeño.\n",
    "Columnas: date, close.\n",
    "\n",
    "### Gráfico de Desviación Estándar del Precio:\n",
    "Descripción: Indica la volatilidad de las acciones a lo largo del tiempo, mostrando la desviación estándar de los precios de cierre.\n",
    "Columnas: date, close.\n",
    "\n",
    "### Heatmap de Correlación:\n",
    "Descripción: Un mapa de calor que muestre la correlación entre los precios de apertura, cierre, alto y bajo de ambas acciones.\n",
    "Columnas: open, high, low, close.\n",
    "\n",
    "### Gráfico de Boxplot:\n",
    "Descripción: Muestra la distribución de precios de cierre de ambas acciones, lo que ayuda a identificar outliers y la tendencia central.\n",
    "Columnas: close.\n",
    "\n",
    "### Gráfico de Tendencia:\n",
    "Descripción: Incluye líneas de tendencia (por ejemplo, media móvil) para los precios de cierre de ambas acciones.\n",
    "Columnas: date, close."
   ]
  }
 ],
 "metadata": {
  "kernelspec": {
   "display_name": "Python 3",
   "language": "python",
   "name": "python3"
  },
  "language_info": {
   "name": "python",
   "version": "3.12.6"
  }
 },
 "nbformat": 4,
 "nbformat_minor": 2
}

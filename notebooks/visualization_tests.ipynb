{
 "cells": [
  {
   "cell_type": "code",
   "execution_count": 53,
   "metadata": {},
   "outputs": [],
   "source": [
    "#IMPORTACION DE LIBRERIAS\n",
    "import pandas as pd"
   ]
  },
  {
   "cell_type": "code",
   "execution_count": 54,
   "metadata": {},
   "outputs": [],
   "source": [
    "#lectura de datasets\n",
    "samsung_df = pd.read_csv('SSNG.csv', delimiter=',')\n",
    "apple_df = pd.read_csv('AAPL.csv', delimiter=',')\n",
    "won_to_usd_00_17_df = pd.read_csv('KRW_TO_USD_2000-2017.csv', delimiter=',')\n",
    "won_to_usd_04_22_df = pd.read_csv('KRW_TO_USD_2004-2022.csv', delimiter=',')\n",
    "#seleccion de las columnas que nos interesa\n",
    "won_to_usd_04_22_df = won_to_usd_04_22_df[['Date', 'KRW=X']]"
   ]
  },
  {
   "cell_type": "code",
   "execution_count": 55,
   "metadata": {},
   "outputs": [],
   "source": [
    "#eliminar filas con valores nulos\n",
    "samsung_df = samsung_df.dropna()\n",
    "apple_df = apple_df.dropna()\n",
    "won_to_usd_00_17_df = won_to_usd_00_17_df.dropna()\n",
    "won_to_usd_04_22_df = won_to_usd_04_22_df.dropna()\n",
    "#eliminar filas con valores .\n",
    "won_to_usd_00_17_df = won_to_usd_00_17_df[won_to_usd_00_17_df['DEXKOUS'] != '.']\n",
    "won_to_usd_04_22_df = won_to_usd_04_22_df[won_to_usd_04_22_df['KRW=X'] != '.']"
   ]
  },
  {
   "cell_type": "code",
   "execution_count": 57,
   "metadata": {},
   "outputs": [],
   "source": [
    "#Darle formato de fecha a las columnas con fechas\n",
    "samsung_df['Date'] = pd.to_datetime(samsung_df['Date'])\n",
    "apple_df['Date'] = pd.to_datetime(apple_df['Date'])\n",
    "won_to_usd_00_17_df['DATE'] = pd.to_datetime(won_to_usd_00_17_df['DATE'])\n",
    "won_to_usd_04_22_df['Date'] = pd.to_datetime(won_to_usd_04_22_df['Date'])\n",
    "# Modificar la forma en que vamos a ver la fecha\n",
    "samsung_df['Date'] = samsung_df['Date'].dt.strftime('%Y-%m-%d')\n",
    "apple_df['Date'] = apple_df['Date'].dt.strftime('%Y-%m-%d')\n",
    "won_to_usd_00_17_df['DATE'] = won_to_usd_00_17_df['DATE'].dt.strftime('%Y-%m-%d')\n",
    "won_to_usd_04_22_df['Date'] = won_to_usd_04_22_df['Date'].dt.strftime('%Y-%m-%d')"
   ]
  },
  {
   "cell_type": "code",
   "execution_count": 58,
   "metadata": {},
   "outputs": [],
   "source": [
    "#renombrado de columnas\n",
    "samsung_df.rename(columns={'Date': 'date', 'Open': 'open', 'High': 'high', 'Low': 'low', 'Close': 'close', 'Adj Close': 'adj_close', 'Volume': 'volume'}, inplace=True)\n",
    "apple_df.rename(columns={'Date': 'date', 'Open': 'open', 'High': 'high', 'Low': 'low', 'Close': 'close', 'Adj Close': 'adj_close', 'Volume': 'volume'}, inplace=True)\n",
    "won_to_usd_00_17_df.rename(columns={'DATE': 'date', 'DEXKOUS': 'dollar'}, inplace=True)\n",
    "won_to_usd_04_22_df.rename(columns={'Date': 'date', 'KRW=X': 'dollar'}, inplace=True)"
   ]
  },
  {
   "cell_type": "markdown",
   "metadata": {},
   "source": [
    "##### Ajustando valores cambiarios (USD-KRW)\n",
    "\n",
    "1. Unimos los datasets de los historicos cambiarios entre dolar y won.\n",
    "2. Pulimos la data combinada para que no haya repetidos y solo quede un rango desde el 2000 hasta el 2022.\n",
    "3. Creamos una columna adicional en la tabla samsung para que coincidan las fechas de las acciones con las fechas de los valores cambiarios exactos.\n",
    "4. Limpiamos las columnas vacías o nulas que queden de la tabla samsung."
   ]
  },
  {
   "cell_type": "code",
   "execution_count": 59,
   "metadata": {},
   "outputs": [],
   "source": [
    "#combinar datasets de valores de conversion entre dolar y won coreano\n",
    "combined_dollar_values = pd.concat([won_to_usd_00_17_df, won_to_usd_04_22_df])\n",
    "combined_dollar_values = combined_dollar_values.drop_duplicates(subset='date')\n",
    "\n",
    "#agregar columna de conversion de won a dolar en la tabla de samsung\n",
    "samsung_df['usd_to_won'] = samsung_df['date'].map(combined_dollar_values.set_index('date')['dollar'])\n",
    "\n",
    "#filtrar filas con volumen 0 y eliminar filas con valores nulos\n",
    "samsung_df = samsung_df[samsung_df['volume'] != 0]\n",
    "samsung_df = samsung_df.dropna()"
   ]
  },
  {
   "cell_type": "code",
   "execution_count": 60,
   "metadata": {},
   "outputs": [],
   "source": [
    "#Crear columnas de año para cada tabla\n",
    "samsung_df['year'] = pd.DatetimeIndex(samsung_df['date']).year\n",
    "apple_df['year'] = pd.DatetimeIndex(apple_df['date']).year"
   ]
  },
  {
   "cell_type": "markdown",
   "metadata": {},
   "source": [
    "##### Pasando a USD todas las columnas con valor de KRW"
   ]
  },
  {
   "cell_type": "code",
   "execution_count": 61,
   "metadata": {},
   "outputs": [],
   "source": [
    "samsung_df['open'] = samsung_df.apply(lambda x: float(x['open']) / float(x['usd_to_won']), axis=1)\n",
    "samsung_df['high'] = samsung_df.apply(lambda x: float(x['high']) / float(x['usd_to_won']), axis=1)\n",
    "samsung_df['low'] = samsung_df.apply(lambda x: float(x['low']) / float(x['usd_to_won']), axis=1)\n",
    "samsung_df['close'] = samsung_df.apply(lambda x: float(x['close']) / float(x['usd_to_won']), axis=1)\n",
    "samsung_df['adj_close'] = samsung_df.apply(lambda x: float(x['adj_close']) / float(x['usd_to_won']), axis=1)"
   ]
  },
  {
   "cell_type": "markdown",
   "metadata": {},
   "source": [
    "##### Delimitando el rango de las acciones de Apple para que coincida la evaluación son Samsung"
   ]
  },
  {
   "cell_type": "code",
   "execution_count": 62,
   "metadata": {},
   "outputs": [],
   "source": [
    "START = samsung_df['date'].min()\n",
    "END = samsung_df['date'].max()\n",
    "apple_df = apple_df[(apple_df['date'] >= START) & (apple_df['date'] <= END)]"
   ]
  },
  {
   "cell_type": "markdown",
   "metadata": {},
   "source": [
    "### VISUALIZACION DE TABLAS"
   ]
  },
  {
   "cell_type": "code",
   "execution_count": 63,
   "metadata": {},
   "outputs": [
    {
     "name": "stdout",
     "output_type": "stream",
     "text": [
      "             date        open        high         low       close   adj_close  \\\n",
      "4836   2000-02-01    0.928571    0.937500    0.892857    0.895089    0.758749   \n",
      "4837   2000-02-02    0.899554    0.911830    0.866071    0.882254    0.747869   \n",
      "4838   2000-02-03    0.895647    0.930804    0.895089    0.922433    0.781928   \n",
      "4839   2000-02-04    0.928013    0.982143    0.925223    0.964286    0.817406   \n",
      "4840   2000-02-07    0.964286    1.020089    0.945871    1.018415    0.863290   \n",
      "...           ...         ...         ...         ...         ...         ...   \n",
      "10445  2022-05-17  148.860001  149.770004  146.679993  149.240005  147.959152   \n",
      "10446  2022-05-18  146.850006  147.360001  139.899994  140.820007  139.611404   \n",
      "10447  2022-05-19  139.880005  141.660004  136.600006  137.350006  136.171204   \n",
      "10448  2022-05-20  139.089996  140.699997  132.610001  137.589996  136.409119   \n",
      "10449  2022-05-23  137.789993  143.259995  137.649994  143.110001  141.881744   \n",
      "\n",
      "          volume  year  \n",
      "4836   318035200  2000  \n",
      "4837   464195200  2000  \n",
      "4838   475193600  2000  \n",
      "4839   425320000  2000  \n",
      "4840   441067200  2000  \n",
      "...          ...   ...  \n",
      "10445   78336300  2022  \n",
      "10446  109742900  2022  \n",
      "10447  136095600  2022  \n",
      "10448  137426100  2022  \n",
      "10449  117726300  2022  \n",
      "\n",
      "[5614 rows x 8 columns]\n"
     ]
    }
   ],
   "source": [
    "print(apple_df)"
   ]
  },
  {
   "cell_type": "code",
   "execution_count": 64,
   "metadata": {},
   "outputs": [
    {
     "name": "stdout",
     "output_type": "stream",
     "text": [
      "            date       open       high        low      close  adj_close  \\\n",
      "20    2000-02-01   4.968944   5.039929   4.667258   4.720497   3.593865   \n",
      "21    2000-02-02   4.615385   4.748011   4.518126   4.641910   3.534034   \n",
      "22    2000-02-03   4.643963   4.829721   4.396285   4.537815   3.454784   \n",
      "24    2000-02-07   4.550283   4.718484   4.461756   4.638810   3.531676   \n",
      "25    2000-02-08   4.727756   4.851704   4.701195   4.807437   3.660056   \n",
      "...          ...        ...        ...        ...        ...        ...   \n",
      "5616  2022-05-17  52.037348  53.053092  52.037348  52.818690  52.818690   \n",
      "5617  2022-05-18  53.921336  54.237128  53.368702  53.763441  53.763441   \n",
      "5618  2022-05-19  52.133147  52.995500  52.133147  52.917104  52.917104   \n",
      "5619  2022-05-20  53.658344  54.133196  53.579201  53.816628  53.816628   \n",
      "5620  2022-05-23  54.036648  54.036648  53.094148  53.329773  53.329773   \n",
      "\n",
      "         volume usd_to_won  year  \n",
      "20     71470000    1127.00  2000  \n",
      "21     64105000    1131.00  2000  \n",
      "22    142765000    1130.50  2000  \n",
      "24     64140000    1129.60  2000  \n",
      "25     58460000    1129.50  2000  \n",
      "...         ...        ...   ...  \n",
      "5616   15680447    1279.85  2022  \n",
      "5617   16486319    1266.66  2022  \n",
      "5618   17073727    1275.58  2022  \n",
      "5619   12109671    1263.55  2022  \n",
      "5620    9942321    1273.21  2022  \n",
      "\n",
      "[5441 rows x 9 columns]\n"
     ]
    }
   ],
   "source": [
    "print(samsung_df)"
   ]
  }
 ],
 "metadata": {
  "kernelspec": {
   "display_name": "Python 3",
   "language": "python",
   "name": "python3"
  },
  "language_info": {
   "codemirror_mode": {
    "name": "ipython",
    "version": 3
   },
   "file_extension": ".py",
   "mimetype": "text/x-python",
   "name": "python",
   "nbconvert_exporter": "python",
   "pygments_lexer": "ipython3",
   "version": "3.12.6"
  }
 },
 "nbformat": 4,
 "nbformat_minor": 2
}

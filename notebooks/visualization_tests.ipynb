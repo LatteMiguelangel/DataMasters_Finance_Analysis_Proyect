{
 "cells": [
  {
   "cell_type": "code",
   "execution_count": 46,
   "metadata": {},
   "outputs": [
    {
     "name": "stdout",
     "output_type": "stream",
     "text": [
      "            date   dollar\n",
      "0     01-02-2000  1127.00\n",
      "1     02-02-2000  1131.00\n",
      "2     03-02-2000  1130.50\n",
      "3     04-02-2000  1130.00\n",
      "4     07-02-2000  1129.60\n",
      "...          ...      ...\n",
      "4951  26-12-2022  1279.24\n",
      "4952  27-12-2022  1275.13\n",
      "4953  28-12-2022  1272.28\n",
      "4954  29-12-2022  1274.32\n",
      "4955  30-12-2022  1260.26\n",
      "\n",
      "[5939 rows x 2 columns]\n"
     ]
    }
   ],
   "source": [
    "import pandas as pd\n",
    "import streamlit as st\n",
    "\n",
    "#lectura de datasets\n",
    "samsung_df = pd.read_csv('SSNG.csv', delimiter=',')\n",
    "apple_df = pd.read_csv('AAPL.csv', delimiter=',')\n",
    "won_to_usd_00_17_df = pd.read_csv('KRW_TO_USD_2000-2017.csv', delimiter=',')\n",
    "won_to_usd_04_22_df = pd.read_csv('KRW_TO_USD_2004-2022.csv', delimiter=',')\n",
    "won_to_usd_04_22_df = won_to_usd_04_22_df[['Date', 'KRW=X']]\n",
    "\n",
    "#eliminar filas con valores nulos\n",
    "samsung_df = samsung_df.dropna()\n",
    "apple_df = apple_df.dropna()\n",
    "won_to_usd_00_17_df = won_to_usd_00_17_df.dropna()\n",
    "won_to_usd_04_22_df = won_to_usd_04_22_df.dropna()\n",
    "\n",
    "won_to_usd_00_17_df = won_to_usd_00_17_df[won_to_usd_00_17_df['DEXKOUS'] != '.']\n",
    "won_to_usd_04_22_df = won_to_usd_04_22_df[won_to_usd_04_22_df['KRW=X'] != '.']\n",
    "\n",
    "\n",
    "#formateando las columnas de fechas\n",
    "samsung_df['Date'] = pd.to_datetime(samsung_df['Date'])\n",
    "apple_df['Date'] = pd.to_datetime(apple_df['Date'])\n",
    "won_to_usd_00_17_df['DATE'] = pd.to_datetime(won_to_usd_00_17_df['DATE'])\n",
    "won_to_usd_04_22_df['Date'] = pd.to_datetime(won_to_usd_04_22_df['Date'])\n",
    "\n",
    "samsung_df['Date'] = samsung_df['Date'].dt.strftime('%d-%m-%Y')\n",
    "apple_df['Date'] = apple_df['Date'].dt.strftime('%d-%m-%Y')\n",
    "won_to_usd_00_17_df['DATE'] = won_to_usd_00_17_df['DATE'].dt.strftime('%d-%m-%Y')\n",
    "won_to_usd_04_22_df['Date'] = won_to_usd_04_22_df['Date'].dt.strftime('%d-%m-%Y')\n",
    "\n",
    "\n",
    "#renombrado de columnas\n",
    "samsung_df.rename(columns={'Date': 'date', 'Open': 'samsung_open', 'High': 'samsung_high', 'Low': 'samsung_low', 'Close': 'samsung_close', 'Adj Close': 'samsung_adj_close', 'Volume': 'samsung_volume'}, inplace=True)\n",
    "apple_df.rename(columns={'Date': 'date', 'Open': 'apple_open', 'High': 'apple_high', 'Low': 'apple_low', 'Close': 'apple_close', 'Adj Close': 'apple_adj_close', 'Volume': 'apple_volume'}, inplace=True)\n",
    "won_to_usd_00_17_df.rename(columns={'DATE': 'date', 'DEXKOUS': 'dollar'}, inplace=True)\n",
    "won_to_usd_04_22_df.rename(columns={'Date': 'date', 'KRW=X': 'dollar'}, inplace=True)\n",
    "\n",
    "# ----- definición de índice --------\n",
    "# samsung_df.set_index('date', inplace=True)\n",
    "# apple_df.set_index('date', inplace=True)\n",
    "# won_to_usd_00_17_df.set_index('date', inplace=True)\n",
    "# won_to_usd_04_22_df.set_index('date', inplace=True)\n",
    "\n",
    "#mostrar datasets\n",
    "#print(samsung_df.head())\n",
    "#print('\\n\\n\\n-----------------------------------------\\n\\n')\n",
    "#print(apple_df.head())\n",
    "\n",
    "#print(won_to_usd_04_22_df.sort_values('dollar'))\n",
    "#print('\\n\\n\\n-----------------------------------------\\n\\n')\n",
    "#print(won_to_usd_00_17_df.sort_values('dollar'))\n",
    "\n",
    "\n",
    "#combinar datasets de valores de conversion entre dolar y won coreano\n",
    "combined_dollar_values = pd.concat([won_to_usd_00_17_df, won_to_usd_04_22_df])\n",
    "combined_dollar_values = combined_dollar_values.drop_duplicates(subset='date')\n",
    "print(combined_dollar_values)\n",
    "\n",
    "\n"
   ]
  }
 ],
 "metadata": {
  "kernelspec": {
   "display_name": "Python 3",
   "language": "python",
   "name": "python3"
  },
  "language_info": {
   "codemirror_mode": {
    "name": "ipython",
    "version": 3
   },
   "file_extension": ".py",
   "mimetype": "text/x-python",
   "name": "python",
   "nbconvert_exporter": "python",
   "pygments_lexer": "ipython3",
   "version": "3.12.6"
  }
 },
 "nbformat": 4,
 "nbformat_minor": 2
}

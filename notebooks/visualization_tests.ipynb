{
 "cells": [
  {
   "cell_type": "code",
   "execution_count": 7,
   "metadata": {},
   "outputs": [
    {
     "name": "stdout",
     "output_type": "stream",
     "text": [
      "         Date        Open        High         Low       Close   Adj Close  \\\n",
      "0  04/01/2000  6000000000  6110000000  5660000000  6110000000  4651737793   \n",
      "1  05/01/2000  5800000000  6060000000  5520000000  5580000000  4248232422   \n",
      "2  06/01/2000  5750000000  5780000000  5580000000  5620000000  4278686523   \n",
      "3  07/01/2000  5560000000  5670000000  5360000000  5540000000  4217780273   \n",
      "4  10/01/2000  5600000000  5770000000  5580000000  5770000000  4392884766   \n",
      "\n",
      "     Volume  \n",
      "0  74195000  \n",
      "1  74680000  \n",
      "2  54390000  \n",
      "3  40305000  \n",
      "4  46880000  \n",
      "         Date      Open      High       Low     Close  Adj Close     Volume\n",
      "0  1980-12-12  0.128348  0.128906  0.128348  0.128348   0.099319  469033600\n",
      "1  1980-12-15  0.122210  0.122210  0.121652  0.121652   0.094137  175884800\n",
      "2  1980-12-16  0.113281  0.113281  0.112723  0.112723   0.087228  105728000\n",
      "3  1980-12-17  0.115513  0.116071  0.115513  0.115513   0.089387   86441600\n",
      "4  1980-12-18  0.118862  0.119420  0.118862  0.118862   0.091978   73449600\n"
     ]
    }
   ],
   "source": [
    "import pandas as pd\n",
    "samsung_df = pd.read_csv('SSNG.csv', delimiter=';')\n",
    "apple_df = pd.read_csv('AAPL.csv', delimiter=',')\n",
    "\n",
    "print(samsung_df.head())\n",
    "print(apple_df.head())"
   ]
  }
 ],
 "metadata": {
  "kernelspec": {
   "display_name": "Python 3",
   "language": "python",
   "name": "python3"
  },
  "language_info": {
   "codemirror_mode": {
    "name": "ipython",
    "version": 3
   },
   "file_extension": ".py",
   "mimetype": "text/x-python",
   "name": "python",
   "nbconvert_exporter": "python",
   "pygments_lexer": "ipython3",
   "version": "3.12.6"
  }
 },
 "nbformat": 4,
 "nbformat_minor": 2
}
